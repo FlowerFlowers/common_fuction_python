{
 "cells": [
  {
   "cell_type": "code",
   "execution_count": 1,
   "metadata": {},
   "outputs": [],
   "source": [
    "import logging\n",
    "#配置日志，filename是日志输出的位置，level是输出日志的等级，filemode直接写入还是追加'w'或'a'，format输出的格式\n",
    "logging.basicConfig(filename='example.log',\n",
    "                    level=logging.DEBUG,\n",
    "                    filemode = 'w',\n",
    "                    format='%(asctime)s %(filename)s[line:%(lineno)d] %(levelname)s %(message)s'\n",
    "                   )\n",
    "logging.debug('This message should go to the log file')\n",
    "logging.info('So should this')\n",
    "logging.warning('And this, too')"
   ]
  },
  {
   "cell_type": "code",
   "execution_count": null,
   "metadata": {},
   "outputs": [],
   "source": []
  }
 ],
 "metadata": {
  "kernelspec": {
   "display_name": "Python 3",
   "language": "python",
   "name": "python3"
  },
  "language_info": {
   "codemirror_mode": {
    "name": "ipython",
    "version": 3
   },
   "file_extension": ".py",
   "mimetype": "text/x-python",
   "name": "python",
   "nbconvert_exporter": "python",
   "pygments_lexer": "ipython3",
   "version": "3.7.3"
  }
 },
 "nbformat": 4,
 "nbformat_minor": 2
}
